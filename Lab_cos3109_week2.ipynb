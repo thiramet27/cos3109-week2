{
  "nbformat": 4,
  "nbformat_minor": 0,
  "metadata": {
    "colab": {
      "provenance": [],
      "authorship_tag": "ABX9TyM53h3TRxtbFALrJfrmuqGr",
      "include_colab_link": true
    },
    "kernelspec": {
      "name": "python3",
      "display_name": "Python 3"
    },
    "language_info": {
      "name": "python"
    }
  },
  "cells": [
    {
      "cell_type": "markdown",
      "metadata": {
        "id": "view-in-github",
        "colab_type": "text"
      },
      "source": [
        "<a href=\"https://colab.research.google.com/github/thiramet27/cos3109-week2/blob/main/Lab_cos3109_week2.ipynb\" target=\"_parent\"><img src=\"https://colab.research.google.com/assets/colab-badge.svg\" alt=\"Open In Colab\"/></a>"
      ]
    },
    {
      "cell_type": "code",
      "execution_count": 1,
      "metadata": {
        "colab": {
          "base_uri": "https://localhost:8080/"
        },
        "id": "8ttktb55L4tU",
        "outputId": "88f53928-d89c-47a9-97c1-124ea252cea0"
      },
      "outputs": [
        {
          "output_type": "stream",
          "name": "stdout",
          "text": [
            "banana\n"
          ]
        }
      ],
      "source": [
        "# 2. Print the second item in the fruits list\n",
        "fruits = [\"apple\", \"banana\", \"cherry\"]\n",
        "print(fruits[1])"
      ]
    },
    {
      "cell_type": "code",
      "source": [
        "# 3. Change the value from “apple” to “kiwi”, in the fruits list\n",
        "fruits[0] = \"kiwi\"\n",
        "print(fruits)\n"
      ],
      "metadata": {
        "colab": {
          "base_uri": "https://localhost:8080/"
        },
        "id": "PSO_MCsGL6eK",
        "outputId": "e79460a4-6f64-49a4-de93-73887518ebe3"
      },
      "execution_count": 2,
      "outputs": [
        {
          "output_type": "stream",
          "name": "stdout",
          "text": [
            "['kiwi', 'banana', 'cherry']\n"
          ]
        }
      ]
    },
    {
      "cell_type": "code",
      "source": [
        "# 4. Use the append method to add “orange” to the fruits list\n",
        "fruits.append(\"orange\")\n",
        "print(fruits)\n",
        "\n"
      ],
      "metadata": {
        "colab": {
          "base_uri": "https://localhost:8080/"
        },
        "id": "MpfEf1G9L8Fq",
        "outputId": "4125a451-5d6b-43fd-c851-b4115244f5ac"
      },
      "execution_count": 3,
      "outputs": [
        {
          "output_type": "stream",
          "name": "stdout",
          "text": [
            "['kiwi', 'banana', 'cherry', 'orange']\n"
          ]
        }
      ]
    },
    {
      "cell_type": "code",
      "source": [
        "# 5. Use the insert method to add “lemon” as the second item in the fruits list\n",
        "fruits.insert(1, \"lemon\")\n",
        "print(fruits)\n"
      ],
      "metadata": {
        "colab": {
          "base_uri": "https://localhost:8080/"
        },
        "id": "aVRhJoWYL9aa",
        "outputId": "eab64aa9-5fd6-4585-d654-36beb62730e3"
      },
      "execution_count": 4,
      "outputs": [
        {
          "output_type": "stream",
          "name": "stdout",
          "text": [
            "['kiwi', 'lemon', 'banana', 'cherry', 'orange']\n"
          ]
        }
      ]
    },
    {
      "cell_type": "code",
      "source": [
        "# 6. Use the remove method to delete “banana” from the fruits list\n",
        "fruits.remove(\"banana\")\n",
        "print(fruits)\n"
      ],
      "metadata": {
        "colab": {
          "base_uri": "https://localhost:8080/"
        },
        "id": "3eTHQOSgL-ph",
        "outputId": "6b8b3c1a-c779-491a-81a2-9c81473b4bc5"
      },
      "execution_count": 5,
      "outputs": [
        {
          "output_type": "stream",
          "name": "stdout",
          "text": [
            "['kiwi', 'lemon', 'cherry', 'orange']\n"
          ]
        }
      ]
    },
    {
      "cell_type": "code",
      "source": [
        "# 7. Print “Hello World” if a is greater than b\n",
        "a = 50\n",
        "b = 10\n",
        "if a > b:\n",
        "    print(\"Hello World\")\n"
      ],
      "metadata": {
        "colab": {
          "base_uri": "https://localhost:8080/"
        },
        "id": "zWCGCF_cMAby",
        "outputId": "596cb7aa-d700-4186-ecab-1a1d84dd2e74"
      },
      "execution_count": 6,
      "outputs": [
        {
          "output_type": "stream",
          "name": "stdout",
          "text": [
            "Hello World\n"
          ]
        }
      ]
    },
    {
      "cell_type": "code",
      "source": [
        "# 8. Print “Hello World” if a is not equal to b\n",
        "if a != b:\n",
        "    print(\"Hello World\")\n"
      ],
      "metadata": {
        "colab": {
          "base_uri": "https://localhost:8080/"
        },
        "id": "95T1zSn6MBr6",
        "outputId": "c9515446-0361-4e0c-c90c-966430b94953"
      },
      "execution_count": 7,
      "outputs": [
        {
          "output_type": "stream",
          "name": "stdout",
          "text": [
            "Hello World\n"
          ]
        }
      ]
    },
    {
      "cell_type": "code",
      "source": [
        "# 9. Print “Yes” if a is equal to b, otherwise print “No”\n",
        "if a == b:\n",
        "    print(\"Yes\")\n",
        "else:\n",
        "    print(\"No\")\n"
      ],
      "metadata": {
        "colab": {
          "base_uri": "https://localhost:8080/"
        },
        "id": "CnMXsXXMMDmi",
        "outputId": "cc380263-8158-4eaf-c83c-7a00dfdc1307"
      },
      "execution_count": 8,
      "outputs": [
        {
          "output_type": "stream",
          "name": "stdout",
          "text": [
            "No\n"
          ]
        }
      ]
    },
    {
      "cell_type": "code",
      "source": [
        "# 10. Print “1” if a is equal to b, print “2” if a is greater than b, otherwise print “3”\n",
        "if a == b:\n",
        "    print(\"1\")\n",
        "elif a > b:\n",
        "    print(\"2\")\n",
        "else:\n",
        "    print(\"3\")\n"
      ],
      "metadata": {
        "colab": {
          "base_uri": "https://localhost:8080/"
        },
        "id": "AJc12Xr-MFBi",
        "outputId": "8c47ba62-4a15-4c7d-a782-b683d1bb65f6"
      },
      "execution_count": 9,
      "outputs": [
        {
          "output_type": "stream",
          "name": "stdout",
          "text": [
            "2\n"
          ]
        }
      ]
    },
    {
      "cell_type": "code",
      "source": [
        "# 11. Print “Hello” if a is equal to b, and c is equal to d\n",
        "c = 20\n",
        "d = 20\n",
        "if a == b and c == d:\n",
        "    print(\"Hello\")\n"
      ],
      "metadata": {
        "id": "CyQv9lezMGVq"
      },
      "execution_count": 10,
      "outputs": []
    },
    {
      "cell_type": "code",
      "source": [
        "# 12. Print “Hello” if either a is equal to b, or c is equal to d\n",
        "if a == b or c == d:\n",
        "    print(\"Hello\")\n"
      ],
      "metadata": {
        "colab": {
          "base_uri": "https://localhost:8080/"
        },
        "id": "2UDc3Wq1MHsC",
        "outputId": "21db4054-8928-4c53-e1d2-3f9d740fb4e9"
      },
      "execution_count": 11,
      "outputs": [
        {
          "output_type": "stream",
          "name": "stdout",
          "text": [
            "Hello\n"
          ]
        }
      ]
    },
    {
      "cell_type": "code",
      "source": [
        "# 13. Print i as long as i is less than 6\n",
        "i = 1\n",
        "while i < 6:\n",
        "    print(i)\n",
        "    i += 1\n"
      ],
      "metadata": {
        "colab": {
          "base_uri": "https://localhost:8080/"
        },
        "id": "gp3h7MZ5MI8i",
        "outputId": "db8376ec-7d59-4f11-8bb8-473a798dea39"
      },
      "execution_count": 12,
      "outputs": [
        {
          "output_type": "stream",
          "name": "stdout",
          "text": [
            "1\n",
            "2\n",
            "3\n",
            "4\n",
            "5\n"
          ]
        }
      ]
    },
    {
      "cell_type": "code",
      "source": [
        "# 14. From #13 stop the loop if i is 3\n",
        "i = 1\n",
        "while i < 6:\n",
        "    if i == 3:\n",
        "        break\n",
        "    print(i)\n",
        "    i += 1\n"
      ],
      "metadata": {
        "colab": {
          "base_uri": "https://localhost:8080/"
        },
        "id": "mezLA72BMK7i",
        "outputId": "534eccfa-53ca-4655-83a2-8882aac1c082"
      },
      "execution_count": 13,
      "outputs": [
        {
          "output_type": "stream",
          "name": "stdout",
          "text": [
            "1\n",
            "2\n"
          ]
        }
      ]
    },
    {
      "cell_type": "code",
      "source": [],
      "metadata": {
        "id": "IFXbw1v6MMg5"
      },
      "execution_count": null,
      "outputs": []
    }
  ]
}